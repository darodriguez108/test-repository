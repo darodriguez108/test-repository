{
 "cells": [
  {
   "cell_type": "code",
   "execution_count": 10,
   "metadata": {
    "collapsed": true
   },
   "outputs": [],
   "source": [
    "import numpy as np\n",
    "import pickle\n",
    "import os\n",
    "import pandas as pd"
   ]
  },
  {
   "cell_type": "code",
   "execution_count": 11,
   "metadata": {
    "collapsed": true
   },
   "outputs": [],
   "source": [
    "pre = os.path.dirname(os.path.realpath('__file__'))\n",
    "fname = 'DataReadyforKNNModel.xlsx'\n",
    "path = os.path.join(pre, fname)\n",
    "data = pd.read_excel(path)"
   ]
  },
  {
   "cell_type": "code",
   "execution_count": 12,
   "metadata": {
    "scrolled": true
   },
   "outputs": [
    {
     "data": {
      "text/html": [
       "<div>\n",
       "<style>\n",
       "    .dataframe thead tr:only-child th {\n",
       "        text-align: right;\n",
       "    }\n",
       "\n",
       "    .dataframe thead th {\n",
       "        text-align: left;\n",
       "    }\n",
       "\n",
       "    .dataframe tbody tr th {\n",
       "        vertical-align: top;\n",
       "    }\n",
       "</style>\n",
       "<table border=\"1\" class=\"dataframe\">\n",
       "  <thead>\n",
       "    <tr style=\"text-align: right;\">\n",
       "      <th></th>\n",
       "      <th>Sabot_OD</th>\n",
       "      <th>Lp_Mass</th>\n",
       "      <th>Squeeze</th>\n",
       "      <th>Powder_</th>\n",
       "    </tr>\n",
       "  </thead>\n",
       "  <tbody>\n",
       "    <tr>\n",
       "      <th>0</th>\n",
       "      <td>0.4940</td>\n",
       "      <td>1.14580</td>\n",
       "      <td>0.0050</td>\n",
       "      <td>163.0</td>\n",
       "    </tr>\n",
       "    <tr>\n",
       "      <th>3</th>\n",
       "      <td>0.4935</td>\n",
       "      <td>1.42045</td>\n",
       "      <td>0.0045</td>\n",
       "      <td>167.5</td>\n",
       "    </tr>\n",
       "    <tr>\n",
       "      <th>4</th>\n",
       "      <td>0.4935</td>\n",
       "      <td>1.14705</td>\n",
       "      <td>0.0045</td>\n",
       "      <td>162.0</td>\n",
       "    </tr>\n",
       "    <tr>\n",
       "      <th>5</th>\n",
       "      <td>0.4930</td>\n",
       "      <td>1.35513</td>\n",
       "      <td>0.0040</td>\n",
       "      <td>166.8</td>\n",
       "    </tr>\n",
       "    <tr>\n",
       "      <th>6</th>\n",
       "      <td>0.4930</td>\n",
       "      <td>1.04075</td>\n",
       "      <td>0.0040</td>\n",
       "      <td>158.0</td>\n",
       "    </tr>\n",
       "  </tbody>\n",
       "</table>\n",
       "</div>"
      ],
      "text/plain": [
       "   Sabot_OD  Lp_Mass  Squeeze  Powder_\n",
       "0    0.4940  1.14580   0.0050    163.0\n",
       "3    0.4935  1.42045   0.0045    167.5\n",
       "4    0.4935  1.14705   0.0045    162.0\n",
       "5    0.4930  1.35513   0.0040    166.8\n",
       "6    0.4930  1.04075   0.0040    158.0"
      ]
     },
     "execution_count": 12,
     "metadata": {},
     "output_type": "execute_result"
    }
   ],
   "source": [
    "data.head()"
   ]
  },
  {
   "cell_type": "code",
   "execution_count": 13,
   "metadata": {
    "collapsed": true
   },
   "outputs": [],
   "source": [
    "# sdm = data['Sabot Depth'].mean()\n",
    "# sds = data['Sabot Depth'].std()\n",
    "\n",
    "# mm = data['Muzzle'].mean()\n",
    "# ms = data['Muzzle'].std()\n",
    "# mmin = data['Muzzle'].min()\n",
    "# mmax = data['Muzzle'].max()\n",
    "\n",
    "som = data['Sabot_OD'].mean()\n",
    "sos = data['Sabot_OD'].std()\n",
    "somin = data['Sabot_OD'].min()\n",
    "somax = data['Sabot_OD'].max()\n",
    "\n",
    "# avm = data['Actual_Velocity'].mean()\n",
    "# avs = data['Actual_Velocity'].std()\n",
    "\n",
    "lpm = data['Lp_Mass'].mean()\n",
    "lps = data['Lp_Mass'].std()\n",
    "lmin = data['Lp_Mass'].min()\n",
    "lmax = data['Lp_Mass'].max()\n",
    "\n",
    "sm = data['Squeeze'].mean()\n",
    "ss = data['Squeeze'].std()\n",
    "smin = data['Squeeze'].min()\n",
    "smax = data['Squeeze'].max()\n"
   ]
  },
  {
   "cell_type": "code",
   "execution_count": 14,
   "metadata": {},
   "outputs": [
    {
     "name": "stdout",
     "output_type": "stream",
     "text": [
      "0.103375527426\n",
      "0.10686933721\n",
      "0.181818181818\n"
     ]
    }
   ],
   "source": [
    "# print((7-sdm)/(sds))\n",
    "# print((0.4965-mmin)/(mmax - mmin))\n",
    "print((0.4985-somin)/(somax - somin))\n",
    "# print((6.94-avm)/(avs))\n",
    "print((1.1687-lmin)/(lmax - lmin))\n",
    "print((0.002-smin)/(smax - smin))"
   ]
  },
  {
   "cell_type": "code",
   "execution_count": 15,
   "metadata": {
    "collapsed": true
   },
   "outputs": [],
   "source": [
    "knn_pkl = open(\"KNNRegressionModel.pkl\",\"rb\")"
   ]
  },
  {
   "cell_type": "code",
   "execution_count": 16,
   "metadata": {
    "collapsed": true
   },
   "outputs": [],
   "source": [
    "model = pickle.load(knn_pkl)"
   ]
  },
  {
   "cell_type": "code",
   "execution_count": 17,
   "metadata": {},
   "outputs": [
    {
     "data": {
      "text/plain": [
       "KNeighborsRegressor(algorithm='auto', leaf_size=30, metric='minkowski',\n",
       "          metric_params=None, n_jobs=1, n_neighbors=1, p=2,\n",
       "          weights='uniform')"
      ]
     },
     "execution_count": 17,
     "metadata": {},
     "output_type": "execute_result"
    }
   ],
   "source": [
    "model"
   ]
  },
  {
   "cell_type": "code",
   "execution_count": 18,
   "metadata": {},
   "outputs": [
    {
     "name": "stdout",
     "output_type": "stream",
     "text": [
      "Please Enter Muzzle: 0.489\n",
      "Please Enter sabot OD: 0.495\n",
      "Please Enter LP Mass: 1.2\n",
      "\n",
      "\n",
      " Please use a powder load of : \n",
      "\n"
     ]
    },
    {
     "data": {
      "text/plain": [
       "array([ 162.3])"
      ]
     },
     "execution_count": 18,
     "metadata": {},
     "output_type": "execute_result"
    }
   ],
   "source": [
    "#put inputs (sabot depth, muzzle, sabot OD, Velocity, LP Mass, Squeeze)\n",
    "# a = float(input(\"Please Enter Sabot Depth: \"))\n",
    "b = float(input(\"Please Enter Muzzle: \"))\n",
    "c = float(input(\"Please Enter sabot OD: \"))\n",
    "# d = float(input(\"Please Enter Velocity: \"))\n",
    "e = float(input(\"Please Enter LP Mass: \"))\n",
    "f = c-b\n",
    "\n",
    "# ab = (a-sdm)/(sds)\n",
    "# bb = (b-mmin)/(mmax - mmin)\n",
    "cb = (c-somin)/(somax - somin)\n",
    "# db = (d-avm)/(avs)\n",
    "eb = (e-lmin)/(lmax - lmin)\n",
    "fb = (f-smin)/(smax - smin)\n",
    "\n",
    "\n",
    "SabotOD, LPMass, Squeeze = cb, eb, fb   \n",
    "inputs = np.array([[SabotOD, LPMass, Squeeze]])\n",
    "\n",
    "print(\"\\n\\n Please use a powder load of : \\n\")\n",
    "model.predict(inputs)"
   ]
  },
  {
   "cell_type": "markdown",
   "metadata": {},
   "source": [
    "##### "
   ]
  }
 ],
 "metadata": {
  "kernelspec": {
   "display_name": "Python 3",
   "language": "python",
   "name": "python3"
  },
  "language_info": {
   "codemirror_mode": {
    "name": "ipython",
    "version": 3
   },
   "file_extension": ".py",
   "mimetype": "text/x-python",
   "name": "python",
   "nbconvert_exporter": "python",
   "pygments_lexer": "ipython3",
   "version": "3.6.2"
  }
 },
 "nbformat": 4,
 "nbformat_minor": 2
}
