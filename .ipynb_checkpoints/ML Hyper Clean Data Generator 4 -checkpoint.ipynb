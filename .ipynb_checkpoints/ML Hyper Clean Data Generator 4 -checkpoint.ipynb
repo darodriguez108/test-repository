{
 "cells": [
  {
   "cell_type": "code",
   "execution_count": 32,
   "metadata": {
    "collapsed": true
   },
   "outputs": [],
   "source": [
    "import numpy as np\n",
    "import pandas as pd\n",
    "import xlrd\n",
    "import os\n",
    "import tarfile\n",
    "from six.moves import urllib\n",
    "import seaborn as sns\n"
   ]
  },
  {
   "cell_type": "code",
   "execution_count": 33,
   "metadata": {
    "collapsed": true
   },
   "outputs": [],
   "source": [
    "%matplotlib inline"
   ]
  },
  {
   "cell_type": "code",
   "execution_count": 34,
   "metadata": {
    "collapsed": true
   },
   "outputs": [],
   "source": [
    "pre = os.path.dirname(os.path.realpath('__file__'))\n",
    "fname = 'DataFile1.xlsx'\n",
    "path = os.path.join(pre, fname)\n",
    "data = pd.read_excel(path)"
   ]
  },
  {
   "cell_type": "code",
   "execution_count": 35,
   "metadata": {
    "scrolled": true
   },
   "outputs": [
    {
     "data": {
      "text/html": [
       "<div>\n",
       "<style>\n",
       "    .dataframe thead tr:only-child th {\n",
       "        text-align: right;\n",
       "    }\n",
       "\n",
       "    .dataframe thead th {\n",
       "        text-align: left;\n",
       "    }\n",
       "\n",
       "    .dataframe tbody tr th {\n",
       "        vertical-align: top;\n",
       "    }\n",
       "</style>\n",
       "<table border=\"1\" class=\"dataframe\">\n",
       "  <thead>\n",
       "    <tr style=\"text-align: right;\">\n",
       "      <th></th>\n",
       "      <th>Range</th>\n",
       "      <th>HITF/RHTL #</th>\n",
       "      <th>Shot #</th>\n",
       "      <th>Shot Date</th>\n",
       "      <th>Program</th>\n",
       "      <th>Series</th>\n",
       "      <th>Series Test #</th>\n",
       "      <th>Desired Velocity</th>\n",
       "      <th>Actual Velocity</th>\n",
       "      <th>Delta Velocity</th>\n",
       "      <th>...</th>\n",
       "      <th>Barrel</th>\n",
       "      <th>Petal Valve</th>\n",
       "      <th>Accept / Unaccept</th>\n",
       "      <th>Reason If Unaccept</th>\n",
       "      <th>ES</th>\n",
       "      <th>Sabot Material</th>\n",
       "      <th>Sabot OD</th>\n",
       "      <th>Sabot Depth</th>\n",
       "      <th>Count</th>\n",
       "      <th>Muzzle</th>\n",
       "    </tr>\n",
       "  </thead>\n",
       "  <tbody>\n",
       "    <tr>\n",
       "      <th>0</th>\n",
       "      <td>.50 Cal</td>\n",
       "      <td>17491</td>\n",
       "      <td>1865</td>\n",
       "      <td>2017-12-08</td>\n",
       "      <td>ISS</td>\n",
       "      <td>SNC Dream Chaser TPS HVI Test Program: PNP BL ...</td>\n",
       "      <td>3</td>\n",
       "      <td>7.0</td>\n",
       "      <td>6.98</td>\n",
       "      <td>-0.02</td>\n",
       "      <td>...</td>\n",
       "      <td>15</td>\n",
       "      <td>10k 304l ss</td>\n",
       "      <td>Acceptable</td>\n",
       "      <td>NaN</td>\n",
       "      <td>NaN</td>\n",
       "      <td>4 Piece lexan rear serrations</td>\n",
       "      <td>0.5000</td>\n",
       "      <td>6</td>\n",
       "      <td>1</td>\n",
       "      <td>0.4965</td>\n",
       "    </tr>\n",
       "    <tr>\n",
       "      <th>1</th>\n",
       "      <td>.50 Cal</td>\n",
       "      <td>RHTL 18URO 076</td>\n",
       "      <td>1863</td>\n",
       "      <td>2017-12-07</td>\n",
       "      <td>URO</td>\n",
       "      <td>Europa Clipper Propulsion Module</td>\n",
       "      <td>5.4.1.3-3</td>\n",
       "      <td>7.0</td>\n",
       "      <td>6.97</td>\n",
       "      <td>-0.03</td>\n",
       "      <td>...</td>\n",
       "      <td>15</td>\n",
       "      <td>10k 304l ss</td>\n",
       "      <td>Acceptable</td>\n",
       "      <td>NaN</td>\n",
       "      <td>NaN</td>\n",
       "      <td>4 Piece lexan rear serrations</td>\n",
       "      <td>0.5000</td>\n",
       "      <td>5.5</td>\n",
       "      <td>1</td>\n",
       "      <td>0.4965</td>\n",
       "    </tr>\n",
       "    <tr>\n",
       "      <th>2</th>\n",
       "      <td>.50 Cal</td>\n",
       "      <td>17275</td>\n",
       "      <td>1863</td>\n",
       "      <td>2017-12-06</td>\n",
       "      <td>CCP</td>\n",
       "      <td>SpaceX Dragon-2 HVI Test Program: PNP BL Asses...</td>\n",
       "      <td>11</td>\n",
       "      <td>7.0</td>\n",
       "      <td>6.93</td>\n",
       "      <td>-0.07</td>\n",
       "      <td>...</td>\n",
       "      <td>15</td>\n",
       "      <td>10k 304l ss</td>\n",
       "      <td>Acceptable</td>\n",
       "      <td>NaN</td>\n",
       "      <td>NaN</td>\n",
       "      <td>4 piece lexan rear serrations</td>\n",
       "      <td>0.5000</td>\n",
       "      <td>5.5</td>\n",
       "      <td>1</td>\n",
       "      <td>0.4965</td>\n",
       "    </tr>\n",
       "    <tr>\n",
       "      <th>3</th>\n",
       "      <td>.50 Cal</td>\n",
       "      <td>RHTL 18URO 075</td>\n",
       "      <td>1861</td>\n",
       "      <td>2017-12-05</td>\n",
       "      <td>URO</td>\n",
       "      <td>RHTL 18URO 075</td>\n",
       "      <td>5.2.1.4-2</td>\n",
       "      <td>7.0</td>\n",
       "      <td>6.90</td>\n",
       "      <td>-0.10</td>\n",
       "      <td>...</td>\n",
       "      <td>15</td>\n",
       "      <td>10k 304l ss</td>\n",
       "      <td>Unacceptable</td>\n",
       "      <td>Impacted Stripper</td>\n",
       "      <td>NaN</td>\n",
       "      <td>4 Piece lexan rear serrations</td>\n",
       "      <td>NaN</td>\n",
       "      <td>6</td>\n",
       "      <td>1</td>\n",
       "      <td>0.4965</td>\n",
       "    </tr>\n",
       "    <tr>\n",
       "      <th>4</th>\n",
       "      <td>.50 Cal</td>\n",
       "      <td>17493</td>\n",
       "      <td>1860</td>\n",
       "      <td>2017-12-04</td>\n",
       "      <td>ISS</td>\n",
       "      <td>SNC Dream Chaser TPS HVI Test Program: PNP BL ...</td>\n",
       "      <td>5</td>\n",
       "      <td>7.0</td>\n",
       "      <td>7.01</td>\n",
       "      <td>0.01</td>\n",
       "      <td>...</td>\n",
       "      <td>15</td>\n",
       "      <td>10k 304l ss</td>\n",
       "      <td>Acceptable</td>\n",
       "      <td>NaN</td>\n",
       "      <td>NaN</td>\n",
       "      <td>4 Piece lexan rear serrations</td>\n",
       "      <td>0.4995</td>\n",
       "      <td>6</td>\n",
       "      <td>1</td>\n",
       "      <td>0.4965</td>\n",
       "    </tr>\n",
       "  </tbody>\n",
       "</table>\n",
       "<p>5 rows × 25 columns</p>\n",
       "</div>"
      ],
      "text/plain": [
       "     Range     HITF/RHTL # Shot #  Shot Date Program  \\\n",
       "0  .50 Cal           17491   1865 2017-12-08     ISS   \n",
       "1  .50 Cal  RHTL 18URO 076   1863 2017-12-07     URO   \n",
       "2  .50 Cal           17275   1863 2017-12-06     CCP   \n",
       "3  .50 Cal  RHTL 18URO 075   1861 2017-12-05     URO   \n",
       "4  .50 Cal           17493   1860 2017-12-04     ISS   \n",
       "\n",
       "                                              Series Series Test #  \\\n",
       "0  SNC Dream Chaser TPS HVI Test Program: PNP BL ...             3   \n",
       "1                   Europa Clipper Propulsion Module     5.4.1.3-3   \n",
       "2  SpaceX Dragon-2 HVI Test Program: PNP BL Asses...            11   \n",
       "3                                     RHTL 18URO 075     5.2.1.4-2   \n",
       "4  SNC Dream Chaser TPS HVI Test Program: PNP BL ...             5   \n",
       "\n",
       "   Desired Velocity  Actual Velocity  Delta Velocity   ...    Barrel  \\\n",
       "0               7.0             6.98           -0.02   ...        15   \n",
       "1               7.0             6.97           -0.03   ...        15   \n",
       "2               7.0             6.93           -0.07   ...        15   \n",
       "3               7.0             6.90           -0.10   ...        15   \n",
       "4               7.0             7.01            0.01   ...        15   \n",
       "\n",
       "   Petal Valve  Accept / Unaccept Reason If Unaccept   ES  \\\n",
       "0  10k 304l ss         Acceptable                 NaN NaN   \n",
       "1  10k 304l ss         Acceptable                 NaN NaN   \n",
       "2  10k 304l ss         Acceptable                 NaN NaN   \n",
       "3  10k 304l ss       Unacceptable   Impacted Stripper NaN   \n",
       "4  10k 304l ss         Acceptable                 NaN NaN   \n",
       "\n",
       "                  Sabot Material Sabot OD Sabot Depth Count  Muzzle  \n",
       "0  4 Piece lexan rear serrations   0.5000           6     1  0.4965  \n",
       "1  4 Piece lexan rear serrations   0.5000         5.5     1  0.4965  \n",
       "2  4 piece lexan rear serrations   0.5000         5.5     1  0.4965  \n",
       "3  4 Piece lexan rear serrations      NaN           6     1  0.4965  \n",
       "4  4 Piece lexan rear serrations   0.4995           6     1  0.4965  \n",
       "\n",
       "[5 rows x 25 columns]"
      ]
     },
     "execution_count": 35,
     "metadata": {},
     "output_type": "execute_result"
    }
   ],
   "source": [
    "data.head()"
   ]
  },
  {
   "cell_type": "code",
   "execution_count": 36,
   "metadata": {},
   "outputs": [
    {
     "name": "stdout",
     "output_type": "stream",
     "text": [
      "<class 'pandas.core.frame.DataFrame'>\n",
      "RangeIndex: 341 entries, 0 to 340\n",
      "Data columns (total 25 columns):\n",
      "Range                  341 non-null object\n",
      "HITF/RHTL #            341 non-null object\n",
      "Shot #                 341 non-null object\n",
      "Shot Date              341 non-null datetime64[ns]\n",
      "Program                340 non-null object\n",
      "Series                 179 non-null object\n",
      "Series Test #          178 non-null object\n",
      "Desired Velocity       341 non-null float64\n",
      "Actual Velocity        341 non-null float64\n",
      "Delta Velocity         341 non-null float64\n",
      "Powder                 341 non-null float64\n",
      "Lp Mass                341 non-null float64\n",
      "Projectile             341 non-null float64\n",
      "Projectile Material    341 non-null object\n",
      "Projectile Mass        130 non-null float64\n",
      "Barrel                 341 non-null int64\n",
      "Petal Valve            331 non-null object\n",
      "Accept / Unaccept      337 non-null object\n",
      "Reason If Unaccept     33 non-null object\n",
      "ES                     41 non-null float64\n",
      "Sabot Material         130 non-null object\n",
      "Sabot OD               336 non-null float64\n",
      "Sabot Depth            337 non-null object\n",
      "Count                  341 non-null int64\n",
      "Muzzle                 340 non-null float64\n",
      "dtypes: datetime64[ns](1), float64(10), int64(2), object(12)\n",
      "memory usage: 66.7+ KB\n"
     ]
    }
   ],
   "source": [
    "data.info()"
   ]
  },
  {
   "cell_type": "code",
   "execution_count": 37,
   "metadata": {
    "collapsed": true
   },
   "outputs": [],
   "source": [
    "data.drop('Count', axis=1, inplace=True)"
   ]
  },
  {
   "cell_type": "code",
   "execution_count": 38,
   "metadata": {},
   "outputs": [
    {
     "data": {
      "text/html": [
       "<div>\n",
       "<style>\n",
       "    .dataframe thead tr:only-child th {\n",
       "        text-align: right;\n",
       "    }\n",
       "\n",
       "    .dataframe thead th {\n",
       "        text-align: left;\n",
       "    }\n",
       "\n",
       "    .dataframe tbody tr th {\n",
       "        vertical-align: top;\n",
       "    }\n",
       "</style>\n",
       "<table border=\"1\" class=\"dataframe\">\n",
       "  <thead>\n",
       "    <tr style=\"text-align: right;\">\n",
       "      <th></th>\n",
       "      <th>Desired Velocity</th>\n",
       "      <th>Actual Velocity</th>\n",
       "      <th>Delta Velocity</th>\n",
       "      <th>Powder</th>\n",
       "      <th>Lp Mass</th>\n",
       "      <th>Projectile</th>\n",
       "      <th>Projectile Mass</th>\n",
       "      <th>Barrel</th>\n",
       "      <th>ES</th>\n",
       "      <th>Sabot OD</th>\n",
       "      <th>Muzzle</th>\n",
       "    </tr>\n",
       "  </thead>\n",
       "  <tbody>\n",
       "    <tr>\n",
       "      <th>count</th>\n",
       "      <td>341.000000</td>\n",
       "      <td>341.00000</td>\n",
       "      <td>341.000000</td>\n",
       "      <td>341.000000</td>\n",
       "      <td>341.000000</td>\n",
       "      <td>341.000000</td>\n",
       "      <td>130.000000</td>\n",
       "      <td>341.000000</td>\n",
       "      <td>41.0</td>\n",
       "      <td>336.000000</td>\n",
       "      <td>340.000000</td>\n",
       "    </tr>\n",
       "    <tr>\n",
       "      <th>mean</th>\n",
       "      <td>6.736657</td>\n",
       "      <td>6.72129</td>\n",
       "      <td>-0.015367</td>\n",
       "      <td>174.789267</td>\n",
       "      <td>1.841756</td>\n",
       "      <td>4.419629</td>\n",
       "      <td>0.256486</td>\n",
       "      <td>11.392962</td>\n",
       "      <td>2.0</td>\n",
       "      <td>0.691093</td>\n",
       "      <td>0.523888</td>\n",
       "    </tr>\n",
       "    <tr>\n",
       "      <th>std</th>\n",
       "      <td>0.690634</td>\n",
       "      <td>0.75820</td>\n",
       "      <td>0.241546</td>\n",
       "      <td>31.509249</td>\n",
       "      <td>0.629813</td>\n",
       "      <td>2.095232</td>\n",
       "      <td>0.366346</td>\n",
       "      <td>3.320765</td>\n",
       "      <td>0.0</td>\n",
       "      <td>0.869073</td>\n",
       "      <td>0.026037</td>\n",
       "    </tr>\n",
       "    <tr>\n",
       "      <th>min</th>\n",
       "      <td>4.000000</td>\n",
       "      <td>3.52000</td>\n",
       "      <td>-2.230000</td>\n",
       "      <td>77.000000</td>\n",
       "      <td>1.004040</td>\n",
       "      <td>1.180000</td>\n",
       "      <td>0.010730</td>\n",
       "      <td>3.000000</td>\n",
       "      <td>2.0</td>\n",
       "      <td>0.000000</td>\n",
       "      <td>0.487000</td>\n",
       "    </tr>\n",
       "    <tr>\n",
       "      <th>25%</th>\n",
       "      <td>7.000000</td>\n",
       "      <td>6.85000</td>\n",
       "      <td>-0.060000</td>\n",
       "      <td>162.050000</td>\n",
       "      <td>1.253000</td>\n",
       "      <td>2.770000</td>\n",
       "      <td>0.042612</td>\n",
       "      <td>9.000000</td>\n",
       "      <td>2.0</td>\n",
       "      <td>0.503000</td>\n",
       "      <td>0.502000</td>\n",
       "    </tr>\n",
       "    <tr>\n",
       "      <th>50%</th>\n",
       "      <td>7.000000</td>\n",
       "      <td>7.01000</td>\n",
       "      <td>0.030000</td>\n",
       "      <td>175.700000</td>\n",
       "      <td>1.834100</td>\n",
       "      <td>4.100000</td>\n",
       "      <td>0.094735</td>\n",
       "      <td>11.000000</td>\n",
       "      <td>2.0</td>\n",
       "      <td>0.525500</td>\n",
       "      <td>0.520200</td>\n",
       "    </tr>\n",
       "    <tr>\n",
       "      <th>75%</th>\n",
       "      <td>7.000000</td>\n",
       "      <td>7.08000</td>\n",
       "      <td>0.100000</td>\n",
       "      <td>199.000000</td>\n",
       "      <td>2.265420</td>\n",
       "      <td>5.470000</td>\n",
       "      <td>0.285435</td>\n",
       "      <td>14.000000</td>\n",
       "      <td>2.0</td>\n",
       "      <td>0.551000</td>\n",
       "      <td>0.541800</td>\n",
       "    </tr>\n",
       "    <tr>\n",
       "      <th>max</th>\n",
       "      <td>7.000000</td>\n",
       "      <td>7.30000</td>\n",
       "      <td>0.510000</td>\n",
       "      <td>227.000000</td>\n",
       "      <td>3.891260</td>\n",
       "      <td>11.150000</td>\n",
       "      <td>1.614860</td>\n",
       "      <td>18.000000</td>\n",
       "      <td>2.0</td>\n",
       "      <td>5.725000</td>\n",
       "      <td>0.590700</td>\n",
       "    </tr>\n",
       "  </tbody>\n",
       "</table>\n",
       "</div>"
      ],
      "text/plain": [
       "       Desired Velocity  Actual Velocity  Delta Velocity      Powder  \\\n",
       "count        341.000000        341.00000      341.000000  341.000000   \n",
       "mean           6.736657          6.72129       -0.015367  174.789267   \n",
       "std            0.690634          0.75820        0.241546   31.509249   \n",
       "min            4.000000          3.52000       -2.230000   77.000000   \n",
       "25%            7.000000          6.85000       -0.060000  162.050000   \n",
       "50%            7.000000          7.01000        0.030000  175.700000   \n",
       "75%            7.000000          7.08000        0.100000  199.000000   \n",
       "max            7.000000          7.30000        0.510000  227.000000   \n",
       "\n",
       "          Lp Mass  Projectile  Projectile Mass      Barrel    ES    Sabot OD  \\\n",
       "count  341.000000  341.000000       130.000000  341.000000  41.0  336.000000   \n",
       "mean     1.841756    4.419629         0.256486   11.392962   2.0    0.691093   \n",
       "std      0.629813    2.095232         0.366346    3.320765   0.0    0.869073   \n",
       "min      1.004040    1.180000         0.010730    3.000000   2.0    0.000000   \n",
       "25%      1.253000    2.770000         0.042612    9.000000   2.0    0.503000   \n",
       "50%      1.834100    4.100000         0.094735   11.000000   2.0    0.525500   \n",
       "75%      2.265420    5.470000         0.285435   14.000000   2.0    0.551000   \n",
       "max      3.891260   11.150000         1.614860   18.000000   2.0    5.725000   \n",
       "\n",
       "           Muzzle  \n",
       "count  340.000000  \n",
       "mean     0.523888  \n",
       "std      0.026037  \n",
       "min      0.487000  \n",
       "25%      0.502000  \n",
       "50%      0.520200  \n",
       "75%      0.541800  \n",
       "max      0.590700  "
      ]
     },
     "execution_count": 38,
     "metadata": {},
     "output_type": "execute_result"
    }
   ],
   "source": [
    "data.describe()"
   ]
  },
  {
   "cell_type": "code",
   "execution_count": 39,
   "metadata": {
    "collapsed": true
   },
   "outputs": [],
   "source": [
    "# %matplotlib inline\n",
    "# import matplotlib.pyplot as plt\n",
    "# data.hist(bins=50, figsize=(20,15))\n",
    "# plt.show()"
   ]
  },
  {
   "cell_type": "code",
   "execution_count": 40,
   "metadata": {},
   "outputs": [
    {
     "data": {
      "text/plain": [
       "Actual Velocity     1.000000\n",
       "Desired Velocity    0.948649\n",
       "Powder              0.735101\n",
       "Delta Velocity      0.426548\n",
       "Muzzle              0.167520\n",
       "Lp Mass             0.098674\n",
       "Sabot OD            0.055392\n",
       "Projectile          0.040026\n",
       "Barrel             -0.025796\n",
       "Projectile Mass    -0.084815\n",
       "ES                       NaN\n",
       "Name: Actual Velocity, dtype: float64"
      ]
     },
     "execution_count": 40,
     "metadata": {},
     "output_type": "execute_result"
    }
   ],
   "source": [
    "corr_matrix = data.corr()\n",
    "\n",
    "corr_matrix[\"Actual Velocity\"].sort_values(ascending=False)"
   ]
  },
  {
   "cell_type": "code",
   "execution_count": 41,
   "metadata": {
    "scrolled": true
   },
   "outputs": [
    {
     "name": "stderr",
     "output_type": "stream",
     "text": [
      "C:\\Users\\drodri18\\AppData\\Local\\Continuum\\anaconda3\\lib\\site-packages\\ipykernel_launcher.py:4: FutureWarning: convert_objects is deprecated.  Use the data-type specific converters pd.to_datetime, pd.to_timedelta and pd.to_numeric.\n",
      "  after removing the cwd from sys.path.\n"
     ]
    }
   ],
   "source": [
    "\n",
    "\n",
    "\n",
    "s = data[\"Sabot Depth\"].convert_objects(convert_numeric=True).dropna()\n",
    "data['sabot_od'] = pd.to_numeric(data['Sabot OD'], errors='coerce')\n",
    "\n",
    "#pd.to_numeric(data[\"Sabot Depth\"])\n"
   ]
  },
  {
   "cell_type": "code",
   "execution_count": 42,
   "metadata": {
    "collapsed": true
   },
   "outputs": [],
   "source": [
    "data[\"Sabot Depth\"] = s\n",
    "data.dropna(subset=[\"Sabot Depth\"],inplace=True)\n",
    "data.dropna(subset=[\"sabot_od\"],inplace=True)\n",
    "# special = df[df.kind=='special']\n",
    "# others = df[df.kind!='special']\n",
    "\n",
    "# special = special.dropna(how='any')\n",
    "\n"
   ]
  },
  {
   "cell_type": "code",
   "execution_count": 43,
   "metadata": {},
   "outputs": [
    {
     "data": {
      "text/html": [
       "<div>\n",
       "<style>\n",
       "    .dataframe thead tr:only-child th {\n",
       "        text-align: right;\n",
       "    }\n",
       "\n",
       "    .dataframe thead th {\n",
       "        text-align: left;\n",
       "    }\n",
       "\n",
       "    .dataframe tbody tr th {\n",
       "        vertical-align: top;\n",
       "    }\n",
       "</style>\n",
       "<table border=\"1\" class=\"dataframe\">\n",
       "  <thead>\n",
       "    <tr style=\"text-align: right;\">\n",
       "      <th></th>\n",
       "      <th>Powder</th>\n",
       "      <th>Sabot Depth</th>\n",
       "      <th>Muzzle</th>\n",
       "      <th>Sabot_OD</th>\n",
       "      <th>Actual_Velocity</th>\n",
       "      <th>Delta_Velocity</th>\n",
       "      <th>Desired_Velocity</th>\n",
       "      <th>Lp_Mass</th>\n",
       "      <th>Barrel_</th>\n",
       "      <th>Squeeze</th>\n",
       "    </tr>\n",
       "  </thead>\n",
       "  <tbody>\n",
       "    <tr>\n",
       "      <th>54</th>\n",
       "      <td>80.5</td>\n",
       "      <td>5.25</td>\n",
       "      <td>0.4887</td>\n",
       "      <td>0.493</td>\n",
       "      <td>3.88</td>\n",
       "      <td>-0.12</td>\n",
       "      <td>4.0</td>\n",
       "      <td>1.21295</td>\n",
       "      <td>18.0</td>\n",
       "      <td>4.300000e-03</td>\n",
       "    </tr>\n",
       "    <tr>\n",
       "      <th>62</th>\n",
       "      <td>77.0</td>\n",
       "      <td>4.25</td>\n",
       "      <td>0.4887</td>\n",
       "      <td>0.492</td>\n",
       "      <td>3.93</td>\n",
       "      <td>-0.07</td>\n",
       "      <td>4.0</td>\n",
       "      <td>1.19956</td>\n",
       "      <td>18.0</td>\n",
       "      <td>3.300000e-03</td>\n",
       "    </tr>\n",
       "    <tr>\n",
       "      <th>254</th>\n",
       "      <td>83.6</td>\n",
       "      <td>7.00</td>\n",
       "      <td>0.4886</td>\n",
       "      <td>0.492</td>\n",
       "      <td>3.94</td>\n",
       "      <td>-0.06</td>\n",
       "      <td>4.0</td>\n",
       "      <td>1.86190</td>\n",
       "      <td>14.0</td>\n",
       "      <td>3.400000e-03</td>\n",
       "    </tr>\n",
       "    <tr>\n",
       "      <th>258</th>\n",
       "      <td>83.5</td>\n",
       "      <td>5.00</td>\n",
       "      <td>0.4886</td>\n",
       "      <td>0.489</td>\n",
       "      <td>4.09</td>\n",
       "      <td>0.09</td>\n",
       "      <td>4.0</td>\n",
       "      <td>1.80817</td>\n",
       "      <td>14.0</td>\n",
       "      <td>4.000000e-04</td>\n",
       "    </tr>\n",
       "    <tr>\n",
       "      <th>264</th>\n",
       "      <td>88.0</td>\n",
       "      <td>5.00</td>\n",
       "      <td>0.4870</td>\n",
       "      <td>0.487</td>\n",
       "      <td>4.14</td>\n",
       "      <td>0.14</td>\n",
       "      <td>4.0</td>\n",
       "      <td>1.80136</td>\n",
       "      <td>13.0</td>\n",
       "      <td>5.551115e-17</td>\n",
       "    </tr>\n",
       "  </tbody>\n",
       "</table>\n",
       "</div>"
      ],
      "text/plain": [
       "     Powder  Sabot Depth  Muzzle  Sabot_OD  Actual_Velocity  Delta_Velocity  \\\n",
       "54     80.5         5.25  0.4887     0.493             3.88           -0.12   \n",
       "62     77.0         4.25  0.4887     0.492             3.93           -0.07   \n",
       "254    83.6         7.00  0.4886     0.492             3.94           -0.06   \n",
       "258    83.5         5.00  0.4886     0.489             4.09            0.09   \n",
       "264    88.0         5.00  0.4870     0.487             4.14            0.14   \n",
       "\n",
       "     Desired_Velocity  Lp_Mass  Barrel_       Squeeze  \n",
       "54                4.0  1.21295     18.0  4.300000e-03  \n",
       "62                4.0  1.19956     18.0  3.300000e-03  \n",
       "254               4.0  1.86190     14.0  3.400000e-03  \n",
       "258               4.0  1.80817     14.0  4.000000e-04  \n",
       "264               4.0  1.80136     13.0  5.551115e-17  "
      ]
     },
     "execution_count": 43,
     "metadata": {},
     "output_type": "execute_result"
    }
   ],
   "source": [
    "data[\"Sabot_OD\"] = data[(data['sabot_od']>0.4) & (data['sabot_od']<0.6)]['sabot_od']\n",
    "data[\"Actual_Velocity\"] = data[(data['Actual Velocity']>3.8) & (data['Actual Velocity']< 4.2)]['Actual Velocity']\n",
    "data[\"Delta_Velocity\"] = data[(data['Delta Velocity']> -0.17) & (data['Delta Velocity']< 0.17)]['Delta Velocity']\n",
    "#data[\"Desired_Velocity\"] = data[(data['Desired Velocity']> 6.79) & (data['Desired Velocity']< 7.1)]['Desired Velocity']\n",
    "data[\"Desired_Velocity\"] = data[data['Desired Velocity']== 4.0]['Desired Velocity']\n",
    "data[\"Lp_Mass\"] = data[data['Lp Mass']> 0.5]['Lp Mass']\n",
    "data[\"Barrel_\"] = data[(data['Barrel']!= 4) & (data['Barrel']!= 8) & (data['Barrel']!= 9) & (data['Barrel']!= 10)]['Barrel']\n",
    "data.drop('Actual Velocity', axis=1,inplace=True)\n",
    "data.drop('Delta Velocity', axis=1,inplace=True)\n",
    "data.drop('Desired Velocity', axis=1,inplace=True)\n",
    "data.drop('Lp Mass', axis=1,inplace=True)\n",
    "data.drop('Sabot OD', axis=1,inplace=True)\n",
    "data.drop('sabot_od', axis=1,inplace=True)\n",
    "data.drop('Range', axis=1,inplace=True)\n",
    "data.drop('Projectile', axis=1,inplace=True)\n",
    "data.drop('Projectile Material', axis=1,inplace=True)\n",
    "data.drop('Accept / Unaccept', axis=1,inplace=True)\n",
    "data.drop('Reason If Unaccept ', axis=1,inplace=True)\n",
    "data.drop('Shot Date', axis=1,inplace=True)\n",
    "#data.drop('Barrel', axis=1,inplace=True)\n",
    "data.drop('ES', axis=1,inplace=True)\n",
    "data.drop('HITF/RHTL #', axis=1,inplace=True)\n",
    "data.drop('Projectile Mass', axis=1,inplace=True)\n",
    "data.drop('Shot #', axis=1,inplace=True)\n",
    "data.drop('Program', axis=1,inplace=True)\n",
    "data.drop('Series', axis=1,inplace=True)\n",
    "data.drop('Series Test #', axis=1,inplace=True)\n",
    "data.drop('Petal Valve', axis=1,inplace=True)\n",
    "data.drop('Sabot Material', axis=1,inplace=True)\n",
    "data.drop('Barrel', axis=1,inplace=True)\n",
    "data.dropna(subset=[\"Muzzle\"],inplace=True)\n",
    "data.dropna(subset=[\"Sabot_OD\"],inplace=True)\n",
    "data.dropna(subset=[\"Actual_Velocity\"],inplace=True)\n",
    "data.dropna(subset=[\"Delta_Velocity\"],inplace=True)\n",
    "data.dropna(subset=[\"Desired_Velocity\"],inplace=True)\n",
    "data.dropna(subset=[\"Lp_Mass\"],inplace=True)\n",
    "data.dropna(subset=[\"Barrel_\"],inplace=True)\n",
    "data[\"Squeeze\"] = data[\"Sabot_OD\"] - data[\"Muzzle\"]\n",
    "data\n",
    "\n",
    "\n"
   ]
  },
  {
   "cell_type": "code",
   "execution_count": 44,
   "metadata": {
    "collapsed": true
   },
   "outputs": [],
   "source": [
    "#data.dropna(subset=[\"Powder-(SabotOD-Muzzle*Insertion Depth)\"],inplace=True)\n",
    "\n",
    "#sabot_od = data[(data['Sabot OD']> 0.4) & (data['Sabot OD']<0.6)]\n",
    "\n",
    "# sabot_od1 = data[data['Sabot_od']> 0.4]\n",
    "# sabot_od1\n",
    "# data['Sabot OD_'] = sabot_od1\n",
    "#data[['Powder','Powder-(SabotOD-Muzzle*Insertion Depth)']]"
   ]
  },
  {
   "cell_type": "code",
   "execution_count": 45,
   "metadata": {},
   "outputs": [
    {
     "data": {
      "text/plain": [
       "Delta_Velocity      1.000000\n",
       "Actual_Velocity     1.000000\n",
       "Powder              0.773186\n",
       "Lp_Mass             0.690295\n",
       "Sabot Depth        -0.199233\n",
       "Muzzle             -0.747732\n",
       "Barrel_            -0.805454\n",
       "Sabot_OD           -0.990854\n",
       "Squeeze            -0.995141\n",
       "Desired_Velocity         NaN\n",
       "Name: Actual_Velocity, dtype: float64"
      ]
     },
     "execution_count": 45,
     "metadata": {},
     "output_type": "execute_result"
    }
   ],
   "source": [
    "corr_matrix = data.corr()\n",
    "\n",
    "corr_matrix[\"Actual_Velocity\"].sort_values(ascending=False)"
   ]
  },
  {
   "cell_type": "code",
   "execution_count": 46,
   "metadata": {},
   "outputs": [
    {
     "data": {
      "text/plain": [
       "Powder              1.000000\n",
       "Lp_Mass             0.827316\n",
       "Delta_Velocity      0.773186\n",
       "Actual_Velocity     0.773186\n",
       "Sabot Depth         0.347245\n",
       "Squeeze            -0.719392\n",
       "Muzzle             -0.788162\n",
       "Sabot_OD           -0.789259\n",
       "Barrel_            -0.905951\n",
       "Desired_Velocity         NaN\n",
       "Name: Powder, dtype: float64"
      ]
     },
     "execution_count": 46,
     "metadata": {},
     "output_type": "execute_result"
    }
   ],
   "source": [
    "corr_matrix = data.corr()\n",
    "\n",
    "corr_matrix[\"Powder\"].sort_values(ascending=False)"
   ]
  },
  {
   "cell_type": "code",
   "execution_count": 47,
   "metadata": {},
   "outputs": [
    {
     "name": "stderr",
     "output_type": "stream",
     "text": [
      "C:\\Users\\drodri18\\AppData\\Local\\Continuum\\anaconda3\\lib\\site-packages\\ipykernel_launcher.py:5: FutureWarning: 'pandas.tools.plotting.scatter_matrix' is deprecated, import 'pandas.plotting.scatter_matrix' instead.\n",
      "  \"\"\"\n"
     ]
    },
    {
     "data": {
      "text/plain": [
       "array([[<matplotlib.axes._subplots.AxesSubplot object at 0x000001F6BC05BD30>,\n",
       "        <matplotlib.axes._subplots.AxesSubplot object at 0x000001F6BC4A1278>,\n",
       "        <matplotlib.axes._subplots.AxesSubplot object at 0x000001F6BC4E28D0>],\n",
       "       [<matplotlib.axes._subplots.AxesSubplot object at 0x000001F6BC550B00>,\n",
       "        <matplotlib.axes._subplots.AxesSubplot object at 0x000001F6BC0C64E0>,\n",
       "        <matplotlib.axes._subplots.AxesSubplot object at 0x000001F6BC0C6518>],\n",
       "       [<matplotlib.axes._subplots.AxesSubplot object at 0x000001F6BC60F908>,\n",
       "        <matplotlib.axes._subplots.AxesSubplot object at 0x000001F6BC644DD8>,\n",
       "        <matplotlib.axes._subplots.AxesSubplot object at 0x000001F6BC6D4278>]], dtype=object)"
      ]
     },
     "execution_count": 47,
     "metadata": {},
     "output_type": "execute_result"
    },
    {
     "data": {
      "image/png": "[encoded data removed]",
      "text/plain": [
       "<matplotlib.figure.Figure at 0x1f6bc0997b8>"
      ]
     },
     "metadata": {},
     "output_type": "display_data"
    }
   ],
   "source": [
    "from pandas.tools.plotting import scatter_matrix\n",
    "\n",
    "attributes = [\"Actual_Velocity\",\"Powder\",\"Lp_Mass\"]\n",
    "\n",
    "scatter_matrix(data[attributes], figsize=(12,8))"
   ]
  },
  {
   "cell_type": "code",
   "execution_count": 48,
   "metadata": {},
   "outputs": [
    {
     "data": {
      "text/plain": [
       "<seaborn.axisgrid.FacetGrid at 0x1f6bc837208>"
      ]
     },
     "execution_count": 48,
     "metadata": {},
     "output_type": "execute_result"
    },
    {
     "data": {
      "image/png": "[encoded data removed]",
      "text/plain": [
       "<matplotlib.figure.Figure at 0x1f6bc547588>"
      ]
     },
     "metadata": {},
     "output_type": "display_data"
    }
   ],
   "source": [
    "sns.lmplot(x='Lp_Mass', y='Powder',data=data, col='Barrel_', size=3)"
   ]
  },
  {
   "cell_type": "code",
   "execution_count": 49,
   "metadata": {
    "collapsed": true
   },
   "outputs": [],
   "source": [
    "writer = pd.ExcelWriter('CleanData.xlsx', engine='xlsxwriter')\n",
    "\n",
    "# Convert the dataframe to an XlsxWriter Excel object.\n",
    "data.to_excel(writer, sheet_name='Sheet1')\n",
    "\n",
    "# Close the Pandas Excel writer and output the Excel file.\n",
    "writer.save()\n"
   ]
  },
  {
   "cell_type": "code",
   "execution_count": 50,
   "metadata": {},
   "outputs": [
    {
     "data": {
      "text/plain": [
       "<seaborn.axisgrid.FacetGrid at 0x1f6bca0e160>"
      ]
     },
     "execution_count": 50,
     "metadata": {},
     "output_type": "execute_result"
    },
    {
     "data": {
      "image/png": "[encoded data removed]",
      "text/plain": [
       "<matplotlib.figure.Figure at 0x1f6bca0e128>"
      ]
     },
     "metadata": {},
     "output_type": "display_data"
    }
   ],
   "source": [
    "sns.lmplot(x='Lp_Mass', y='Powder', data=data,hue='Desired_Velocity',scatter_kws={'s':100})"
   ]
  },
  {
   "cell_type": "code",
   "execution_count": null,
   "metadata": {
    "collapsed": true
   },
   "outputs": [],
   "source": []
  }
 ],
 "metadata": {
  "kernelspec": {
   "display_name": "Python 3",
   "language": "python",
   "name": "python3"
  },
  "language_info": {
   "codemirror_mode": {
    "name": "ipython",
    "version": 3
   },
   "file_extension": ".py",
   "mimetype": "text/x-python",
   "name": "python",
   "nbconvert_exporter": "python",
   "pygments_lexer": "ipython3",
   "version": "3.6.2"
  }
 },
 "nbformat": 4,
 "nbformat_minor": 2
}
