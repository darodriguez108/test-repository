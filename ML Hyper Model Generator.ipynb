{
 "cells": [
  {
   "cell_type": "code",
   "execution_count": 55,
   "metadata": {
    "collapsed": true
   },
   "outputs": [],
   "source": [
    "import numpy as np\n",
    "import pandas as pd\n",
    "import xlrd\n",
    "import os\n",
    "import tarfile\n",
    "from six.moves import urllib\n",
    "import seaborn as sns\n",
    "import matplotlib.pyplot as plt"
   ]
  },
  {
   "cell_type": "code",
   "execution_count": 56,
   "metadata": {
    "collapsed": true
   },
   "outputs": [],
   "source": [
    "%matplotlib inline"
   ]
  },
  {
   "cell_type": "code",
   "execution_count": 57,
   "metadata": {
    "collapsed": true
   },
   "outputs": [],
   "source": [
    "pre = os.path.dirname(os.path.realpath('__file__'))\n",
    "fname = 'CleanData.xlsx'\n",
    "path = os.path.join(pre, fname)\n",
    "data = pd.read_excel(path)"
   ]
  },
  {
   "cell_type": "code",
   "execution_count": 58,
   "metadata": {},
   "outputs": [
    {
     "data": {
      "text/html": [
       "<div>\n",
       "<style>\n",
       "    .dataframe thead tr:only-child th {\n",
       "        text-align: right;\n",
       "    }\n",
       "\n",
       "    .dataframe thead th {\n",
       "        text-align: left;\n",
       "    }\n",
       "\n",
       "    .dataframe tbody tr th {\n",
       "        vertical-align: top;\n",
       "    }\n",
       "</style>\n",
       "<table border=\"1\" class=\"dataframe\">\n",
       "  <thead>\n",
       "    <tr style=\"text-align: right;\">\n",
       "      <th></th>\n",
       "      <th>Powder</th>\n",
       "      <th>Sabot Depth</th>\n",
       "      <th>Muzzle</th>\n",
       "      <th>Sabot_OD</th>\n",
       "      <th>Actual_Velocity</th>\n",
       "      <th>Delta_Velocity</th>\n",
       "      <th>Desired_Velocity</th>\n",
       "      <th>Lp_Mass</th>\n",
       "      <th>Barrel_</th>\n",
       "      <th>Squeeze</th>\n",
       "    </tr>\n",
       "  </thead>\n",
       "  <tbody>\n",
       "    <tr>\n",
       "      <th>0</th>\n",
       "      <td>163.0</td>\n",
       "      <td>4.250</td>\n",
       "      <td>0.489</td>\n",
       "      <td>0.4940</td>\n",
       "      <td>7.06</td>\n",
       "      <td>0.06</td>\n",
       "      <td>7</td>\n",
       "      <td>1.14580</td>\n",
       "      <td>16</td>\n",
       "      <td>0.0050</td>\n",
       "    </tr>\n",
       "    <tr>\n",
       "      <th>3</th>\n",
       "      <td>167.5</td>\n",
       "      <td>5.125</td>\n",
       "      <td>0.489</td>\n",
       "      <td>0.4935</td>\n",
       "      <td>6.96</td>\n",
       "      <td>-0.04</td>\n",
       "      <td>7</td>\n",
       "      <td>1.42045</td>\n",
       "      <td>16</td>\n",
       "      <td>0.0045</td>\n",
       "    </tr>\n",
       "    <tr>\n",
       "      <th>4</th>\n",
       "      <td>162.0</td>\n",
       "      <td>6.000</td>\n",
       "      <td>0.489</td>\n",
       "      <td>0.4935</td>\n",
       "      <td>6.89</td>\n",
       "      <td>-0.11</td>\n",
       "      <td>7</td>\n",
       "      <td>1.14705</td>\n",
       "      <td>16</td>\n",
       "      <td>0.0045</td>\n",
       "    </tr>\n",
       "    <tr>\n",
       "      <th>5</th>\n",
       "      <td>166.8</td>\n",
       "      <td>5.250</td>\n",
       "      <td>0.489</td>\n",
       "      <td>0.4930</td>\n",
       "      <td>7.02</td>\n",
       "      <td>0.02</td>\n",
       "      <td>7</td>\n",
       "      <td>1.35513</td>\n",
       "      <td>16</td>\n",
       "      <td>0.0040</td>\n",
       "    </tr>\n",
       "    <tr>\n",
       "      <th>6</th>\n",
       "      <td>158.0</td>\n",
       "      <td>6.750</td>\n",
       "      <td>0.489</td>\n",
       "      <td>0.4930</td>\n",
       "      <td>6.91</td>\n",
       "      <td>-0.09</td>\n",
       "      <td>7</td>\n",
       "      <td>1.04075</td>\n",
       "      <td>16</td>\n",
       "      <td>0.0040</td>\n",
       "    </tr>\n",
       "  </tbody>\n",
       "</table>\n",
       "</div>"
      ],
      "text/plain": [
       "   Powder  Sabot Depth  Muzzle  Sabot_OD  Actual_Velocity  Delta_Velocity  \\\n",
       "0   163.0        4.250   0.489    0.4940             7.06            0.06   \n",
       "3   167.5        5.125   0.489    0.4935             6.96           -0.04   \n",
       "4   162.0        6.000   0.489    0.4935             6.89           -0.11   \n",
       "5   166.8        5.250   0.489    0.4930             7.02            0.02   \n",
       "6   158.0        6.750   0.489    0.4930             6.91           -0.09   \n",
       "\n",
       "   Desired_Velocity  Lp_Mass  Barrel_  Squeeze  \n",
       "0                 7  1.14580       16   0.0050  \n",
       "3                 7  1.42045       16   0.0045  \n",
       "4                 7  1.14705       16   0.0045  \n",
       "5                 7  1.35513       16   0.0040  \n",
       "6                 7  1.04075       16   0.0040  "
      ]
     },
     "execution_count": 58,
     "metadata": {},
     "output_type": "execute_result"
    }
   ],
   "source": [
    "data.head()"
   ]
  },
  {
   "cell_type": "code",
   "execution_count": 59,
   "metadata": {},
   "outputs": [
    {
     "name": "stdout",
     "output_type": "stream",
     "text": [
      "<class 'pandas.core.frame.DataFrame'>\n",
      "Int64Index: 157 entries, 0 to 390\n",
      "Data columns (total 10 columns):\n",
      "Powder              157 non-null float64\n",
      "Sabot Depth         157 non-null float64\n",
      "Muzzle              157 non-null float64\n",
      "Sabot_OD            157 non-null float64\n",
      "Actual_Velocity     157 non-null float64\n",
      "Delta_Velocity      157 non-null float64\n",
      "Desired_Velocity    157 non-null int64\n",
      "Lp_Mass             157 non-null float64\n",
      "Barrel_             157 non-null int64\n",
      "Squeeze             157 non-null float64\n",
      "dtypes: float64(8), int64(2)\n",
      "memory usage: 13.5 KB\n"
     ]
    }
   ],
   "source": [
    "data.info()"
   ]
  },
  {
   "cell_type": "code",
   "execution_count": 60,
   "metadata": {},
   "outputs": [
    {
     "data": {
      "text/html": [
       "<div>\n",
       "<style>\n",
       "    .dataframe thead tr:only-child th {\n",
       "        text-align: right;\n",
       "    }\n",
       "\n",
       "    .dataframe thead th {\n",
       "        text-align: left;\n",
       "    }\n",
       "\n",
       "    .dataframe tbody tr th {\n",
       "        vertical-align: top;\n",
       "    }\n",
       "</style>\n",
       "<table border=\"1\" class=\"dataframe\">\n",
       "  <thead>\n",
       "    <tr style=\"text-align: right;\">\n",
       "      <th></th>\n",
       "      <th>Sabot_OD</th>\n",
       "      <th>Lp_Mass</th>\n",
       "      <th>Squeeze</th>\n",
       "      <th>Powder_</th>\n",
       "    </tr>\n",
       "  </thead>\n",
       "  <tbody>\n",
       "    <tr>\n",
       "      <th>0</th>\n",
       "      <td>0.4940</td>\n",
       "      <td>1.14580</td>\n",
       "      <td>0.0050</td>\n",
       "      <td>163.0</td>\n",
       "    </tr>\n",
       "    <tr>\n",
       "      <th>3</th>\n",
       "      <td>0.4935</td>\n",
       "      <td>1.42045</td>\n",
       "      <td>0.0045</td>\n",
       "      <td>167.5</td>\n",
       "    </tr>\n",
       "    <tr>\n",
       "      <th>4</th>\n",
       "      <td>0.4935</td>\n",
       "      <td>1.14705</td>\n",
       "      <td>0.0045</td>\n",
       "      <td>162.0</td>\n",
       "    </tr>\n",
       "    <tr>\n",
       "      <th>5</th>\n",
       "      <td>0.4930</td>\n",
       "      <td>1.35513</td>\n",
       "      <td>0.0040</td>\n",
       "      <td>166.8</td>\n",
       "    </tr>\n",
       "    <tr>\n",
       "      <th>6</th>\n",
       "      <td>0.4930</td>\n",
       "      <td>1.04075</td>\n",
       "      <td>0.0040</td>\n",
       "      <td>158.0</td>\n",
       "    </tr>\n",
       "  </tbody>\n",
       "</table>\n",
       "</div>"
      ],
      "text/plain": [
       "   Sabot_OD  Lp_Mass  Squeeze  Powder_\n",
       "0    0.4940  1.14580   0.0050    163.0\n",
       "3    0.4935  1.42045   0.0045    167.5\n",
       "4    0.4935  1.14705   0.0045    162.0\n",
       "5    0.4930  1.35513   0.0040    166.8\n",
       "6    0.4930  1.04075   0.0040    158.0"
      ]
     },
     "execution_count": 60,
     "metadata": {},
     "output_type": "execute_result"
    }
   ],
   "source": [
    "data.drop('Barrel_', axis=1,inplace=True)\n",
    "data.drop('Delta_Velocity', axis=1,inplace=True)\n",
    "data.drop('Desired_Velocity', axis=1,inplace=True)\n",
    "data.drop('Actual_Velocity', axis=1,inplace=True)\n",
    "#data.drop('Sabot_OD', axis=1,inplace=True)\n",
    "data.drop('Sabot Depth', axis=1,inplace=True)\n",
    "# data.drop('Squeeze', axis=1,inplace=True)\n",
    "data.drop('Muzzle', axis=1,inplace=True)\n",
    "data['Powder_'] = data['Powder']\n",
    "data.drop('Powder', axis=1,inplace=True)\n",
    "\n",
    "data.head()"
   ]
  },
  {
   "cell_type": "code",
   "execution_count": 61,
   "metadata": {
    "collapsed": true
   },
   "outputs": [],
   "source": [
    "from sklearn.preprocessing import MinMaxScaler"
   ]
  },
  {
   "cell_type": "code",
   "execution_count": 62,
   "metadata": {
    "collapsed": true
   },
   "outputs": [],
   "source": [
    "scaler = MinMaxScaler()"
   ]
  },
  {
   "cell_type": "code",
   "execution_count": 63,
   "metadata": {},
   "outputs": [
    {
     "data": {
      "text/plain": [
       "MinMaxScaler(copy=True, feature_range=(0, 1))"
      ]
     },
     "execution_count": 63,
     "metadata": {},
     "output_type": "execute_result"
    }
   ],
   "source": [
    "scaler.fit(data.drop('Powder_', axis=1))"
   ]
  },
  {
   "cell_type": "code",
   "execution_count": 64,
   "metadata": {
    "collapsed": true
   },
   "outputs": [],
   "source": [
    "scaled_features = scaler.transform(data.drop('Powder_', axis=1))"
   ]
  },
  {
   "cell_type": "code",
   "execution_count": 65,
   "metadata": {
    "collapsed": true
   },
   "outputs": [],
   "source": [
    "data_feat = pd.DataFrame(scaled_features, columns=data.columns[:-1])"
   ]
  },
  {
   "cell_type": "code",
   "execution_count": 66,
   "metadata": {},
   "outputs": [
    {
     "data": {
      "text/html": [
       "<div>\n",
       "<style>\n",
       "    .dataframe thead tr:only-child th {\n",
       "        text-align: right;\n",
       "    }\n",
       "\n",
       "    .dataframe thead th {\n",
       "        text-align: left;\n",
       "    }\n",
       "\n",
       "    .dataframe tbody tr th {\n",
       "        vertical-align: top;\n",
       "    }\n",
       "</style>\n",
       "<table border=\"1\" class=\"dataframe\">\n",
       "  <thead>\n",
       "    <tr style=\"text-align: right;\">\n",
       "      <th></th>\n",
       "      <th>Sabot_OD</th>\n",
       "      <th>Lp_Mass</th>\n",
       "      <th>Squeeze</th>\n",
       "    </tr>\n",
       "  </thead>\n",
       "  <tbody>\n",
       "    <tr>\n",
       "      <th>0</th>\n",
       "      <td>0.055907</td>\n",
       "      <td>0.092007</td>\n",
       "      <td>0.454545</td>\n",
       "    </tr>\n",
       "    <tr>\n",
       "      <th>1</th>\n",
       "      <td>0.050633</td>\n",
       "      <td>0.270263</td>\n",
       "      <td>0.409091</td>\n",
       "    </tr>\n",
       "    <tr>\n",
       "      <th>2</th>\n",
       "      <td>0.050633</td>\n",
       "      <td>0.092818</td>\n",
       "      <td>0.409091</td>\n",
       "    </tr>\n",
       "    <tr>\n",
       "      <th>3</th>\n",
       "      <td>0.045359</td>\n",
       "      <td>0.227868</td>\n",
       "      <td>0.363636</td>\n",
       "    </tr>\n",
       "    <tr>\n",
       "      <th>4</th>\n",
       "      <td>0.045359</td>\n",
       "      <td>0.023826</td>\n",
       "      <td>0.363636</td>\n",
       "    </tr>\n",
       "  </tbody>\n",
       "</table>\n",
       "</div>"
      ],
      "text/plain": [
       "   Sabot_OD   Lp_Mass   Squeeze\n",
       "0  0.055907  0.092007  0.454545\n",
       "1  0.050633  0.270263  0.409091\n",
       "2  0.050633  0.092818  0.409091\n",
       "3  0.045359  0.227868  0.363636\n",
       "4  0.045359  0.023826  0.363636"
      ]
     },
     "execution_count": 66,
     "metadata": {},
     "output_type": "execute_result"
    }
   ],
   "source": [
    "data_feat.head()"
   ]
  },
  {
   "cell_type": "code",
   "execution_count": 67,
   "metadata": {
    "collapsed": true
   },
   "outputs": [],
   "source": [
    "from sklearn.model_selection import train_test_split"
   ]
  },
  {
   "cell_type": "code",
   "execution_count": 68,
   "metadata": {
    "collapsed": true
   },
   "outputs": [],
   "source": [
    "X = data_feat\n",
    "y = data['Powder_']\n",
    "\n",
    "X_train, X_test, y_train, y_test = train_test_split(X, y, test_size=0.1, random_state=101)\n"
   ]
  },
  {
   "cell_type": "code",
   "execution_count": 69,
   "metadata": {
    "collapsed": true
   },
   "outputs": [],
   "source": [
    "from sklearn.neighbors import KNeighborsRegressor\n"
   ]
  },
  {
   "cell_type": "code",
   "execution_count": 70,
   "metadata": {
    "collapsed": true
   },
   "outputs": [],
   "source": [
    "knn = KNeighborsRegressor(n_neighbors=1)"
   ]
  },
  {
   "cell_type": "code",
   "execution_count": 71,
   "metadata": {},
   "outputs": [
    {
     "data": {
      "text/plain": [
       "KNeighborsRegressor(algorithm='auto', leaf_size=30, metric='minkowski',\n",
       "          metric_params=None, n_jobs=1, n_neighbors=1, p=2,\n",
       "          weights='uniform')"
      ]
     },
     "execution_count": 71,
     "metadata": {},
     "output_type": "execute_result"
    }
   ],
   "source": [
    "knn.fit(X_train,y_train)"
   ]
  },
  {
   "cell_type": "code",
   "execution_count": 72,
   "metadata": {
    "collapsed": true
   },
   "outputs": [],
   "source": [
    "pred = knn.predict(X_test)"
   ]
  },
  {
   "cell_type": "code",
   "execution_count": 73,
   "metadata": {
    "collapsed": true
   },
   "outputs": [],
   "source": [
    "error_rate = []"
   ]
  },
  {
   "cell_type": "code",
   "execution_count": 74,
   "metadata": {
    "collapsed": true
   },
   "outputs": [],
   "source": [
    "# for i in range(1,10):\n",
    "#     knn = KNeighborsRegressor(n_neighbors=i)\n",
    "#     knn.fit(X_train,y_train)\n",
    "#     pred_i = knn.predict(X_test)\n",
    "#     error_rate.append(np.mean(pred_i != y_test))\n",
    "    \n",
    "    "
   ]
  },
  {
   "cell_type": "code",
   "execution_count": 75,
   "metadata": {
    "collapsed": true
   },
   "outputs": [],
   "source": [
    "# plt.figure(figsize=(10,6))\n",
    "# plt.plot(range(1,10),error_rate,color='blue',linestyle='dashed',marker='o',markerfacecolor='red',markersize=10)\n",
    "# plt.title='Error Rate vs K Value'\n",
    "# plt.xlabel('K')\n",
    "# plt.ylabel('Error Rate')\n"
   ]
  },
  {
   "cell_type": "code",
   "execution_count": 76,
   "metadata": {},
   "outputs": [
    {
     "name": "stdout",
     "output_type": "stream",
     "text": [
      "Accuracy = 69.21906822617984%\n"
     ]
    }
   ],
   "source": [
    "accuracy = knn.score(X_test, y_test)\n",
    "print(\"Accuracy = {}%\".format(accuracy*100))"
   ]
  },
  {
   "cell_type": "code",
   "execution_count": 77,
   "metadata": {
    "collapsed": true
   },
   "outputs": [],
   "source": [
    "import pickle"
   ]
  },
  {
   "cell_type": "code",
   "execution_count": 78,
   "metadata": {
    "collapsed": true
   },
   "outputs": [],
   "source": [
    "knn_regressionModel = open(\"KNNRegressionModel.pkl\", \"wb\")"
   ]
  },
  {
   "cell_type": "code",
   "execution_count": 79,
   "metadata": {
    "collapsed": true
   },
   "outputs": [],
   "source": [
    "pickle.dump(knn, knn_regressionModel)"
   ]
  },
  {
   "cell_type": "code",
   "execution_count": 80,
   "metadata": {
    "collapsed": true
   },
   "outputs": [],
   "source": [
    "knn_regressionModel.close()"
   ]
  },
  {
   "cell_type": "code",
   "execution_count": 81,
   "metadata": {
    "collapsed": true
   },
   "outputs": [],
   "source": [
    "writer = pd.ExcelWriter('DataReadyforKNNModel.xlsx', engine='xlsxwriter')\n",
    "\n",
    "# Convert the dataframe to an XlsxWriter Excel object.\n",
    "data.to_excel(writer, sheet_name='Sheet1')\n",
    "\n",
    "# Close the Pandas Excel writer and output the Excel file.\n",
    "writer.save()"
   ]
  }
 ],
 "metadata": {
  "kernelspec": {
   "display_name": "Python 3",
   "language": "python",
   "name": "python3"
  },
  "language_info": {
   "codemirror_mode": {
    "name": "ipython",
    "version": 3
   },
   "file_extension": ".py",
   "mimetype": "text/x-python",
   "name": "python",
   "nbconvert_exporter": "python",
   "pygments_lexer": "ipython3",
   "version": "3.6.2"
  }
 },
 "nbformat": 4,
 "nbformat_minor": 2
}
